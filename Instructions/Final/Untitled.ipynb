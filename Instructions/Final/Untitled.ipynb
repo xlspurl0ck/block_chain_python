{
 "cells": [
  {
   "cell_type": "markdown",
   "metadata": {},
   "source": [
    "# BlockChain Wallet's with Python"
   ]
  },
  {
   "cell_type": "markdown",
   "metadata": {},
   "source": [
    "**Dependencies:**\n",
    "* PHP must be installed on your operating system (any version, 5 or 7).\n",
    "    * You will not need to know any PHP.\n",
    "* You will need to clone the hd-wallet-derive tool.\n",
    "* bit Python Bitcoin library.\n",
    "* web3.py Python Ethereum library."
   ]
  },
  {
   "cell_type": "markdown",
   "metadata": {},
   "source": [
    "**Project set-up:**\n",
    "* Create a project directory called wallet and cd into it.\n",
    "* Clone the hd-wallet-derive tool into this folder and install it using the instructions on its README.md.\n",
    "* Create a symlink called derive for the hd-wallet-derive/hd-wallet-derive.php script into the top level project directory like so\n",
    "    * **``ln -s hd-wallet-derive/hd-wallet-derive.php derive``** \n",
    "    * This will clean up the command needed to run the script in our code, as we can call ./derive instead of ./hd-wallet-derive/hd-wallet-derive.php.\n",
    "* Test that you can run the ./derive script properly.\n",
    "* Create a file called wallet.py \n",
    "    * This will be your universal wallet script (see wallet.py file for code)."
   ]
  },
  {
   "cell_type": "markdown",
   "metadata": {},
   "source": [
    "### **Setup constants:**\n",
    "* In a separate file, constants.py, set the following constants:\n",
    "    * **BTC = 'btc'**\n",
    "    * **ETH = 'eth'**\n",
    "    * **BTCTEST = 'btc-test'**\n",
    "* In wallet.py, import all constants\n",
    "    * **``from constants import``** \n",
    "* Use these anytime you reference these strings, both in function calls, and in setting object keys."
   ]
  },
  {
   "cell_type": "markdown",
   "metadata": {},
   "source": [
    "### **Generate a Mnemonic**\n",
    "* Generate a new 12 word mnemonic using hd-wallet-derive \n",
    "    * Or by using this [tool](https://iancoleman.io/bip39/).\n",
    "* Set this mnemonic as an environment variable, and include the one you generated as a fallback \n",
    "    * **``mnemonic = os.getenv('MNEMONIC', 'YOUR_MNEMONIC')``**"
   ]
  },
  {
   "cell_type": "markdown",
   "metadata": {},
   "source": [
    "### **Python Transactions**\n",
    "* Use bit and web3.py to leverage the keys stored in the coins object\n",
    "    * We will create three functions to do this\n",
    "* **``priv_key_to_account``**\n",
    "    * This will convert the privkey string in a child key to an account objectthat bit/web3.py can use.\n",
    "    * Parameters for functions:\n",
    "        * coin -- COIN_TYPE(defined in constants.py)\n",
    "        * priv_key -- PRIVKEY_STRING \n",
    "    * For ``ETH`` \n",
    "        * **``Account.privateKeyToAccount(priv_key)``**\n",
    "        * This function returns an account object from the private key string. You can read more about this object [here](https://web3js.readthedocs.io/en/v1.2.0/web3-eth-accounts.html#privatekeytoaccount).\n",
    "     * For ``BTCTEST``\n",
    "         * **``PrivateKeyTestnet(priv_key)``**\n",
    "* ``Create_tx`` \n",
    "    * This will create the raw, unsigned transaction that contains all metadata needed to transact.<br>\n",
    "    * Parameters:\n",
    "        * coin -- COIN_TYPE(defined in constants.py)\n",
    "        * account -- YOUR_PRIV_KEY\n",
    "        * to -- RECIPIENT_ADDRESS\n",
    "        * amount -- AMOUNT_OF_COINS\n",
    "* **Check the coin, then return one of the following functions based on the library:**\n",
    "    * For ``ETH``, return an object containing, make sure to calculate all of these values properly using web3.py!\n",
    "        * to \n",
    "        * from\n",
    "        * value\n",
    "        * gas\n",
    "        * gasPrice\n",
    "        * nonce\n",
    "        * chainID. \n",
    "    * For ``BTCTEST``, return \n",
    "        * **``PrivateKeyTestnet.prepare_transaction(account.address, [(to, amount, BTC)])``**\n",
    "* ``Create_tx`` \n",
    "    * This will call create_tx, sign the transaction, then send it to the designated network.\n",
    "    * Parameters:\n",
    "        * coin -- COIN_TYPE(defined in constants.py)\n",
    "        * account -- YOUR_PRIV_KEY\n",
    "        * to -- RECIPIENT_ADDRESS\n",
    "        * amount -- AMOUNT_OF_COINS\n",
    "* ``send_tx`` \n",
    "    * This will call create_tx, sign the transaction, then send it to the designated network.\n",
    "    * Parameters:\n",
    "        * coin -- COIN_TYPE(defined in constants.py)\n",
    "        * account -- YOUR_PRIV_KEY\n",
    "        * to -- RECIPIENT_ADDRESS\n",
    "        * amount -- AMOUNT_OF_COINS\n",
    "**You may notice these are the exact same parameters as create_tx. send_tx will call create_tx, so it needs all of this information available.**\n",
    "* Check the coin, then create a ``raw_tx`` object by calling ``create_tx`` then sign the ``raw_tx`` using bit or web3.py \n",
    "    * The account objects have a sign transaction function within\n",
    "* Once you've signed the transaction send it to the designated blockchain network.\n",
    "    * ``ETH``\n",
    "        * **``w3.eth.sendRawTransaction(signed.rawTransaction)``**\n",
    "    * ``BTCTEST``\n",
    "        * **``NetworkAPI.broadcast_tx_testnet(signed)``**"
   ]
  },
  {
   "cell_type": "markdown",
   "metadata": {},
   "source": [
    "### **Send some transactions!**\n",
    "**Fund these wallets using testnet faucets.** \n",
    "\n",
    "* Open up a new terminal window inside of wallet, then run python. \n",
    "* Within the Python shell, run \n",
    "    * **``from wallet import *``** \n",
    "        * This should provide interactive functions, you should see something like this<br>\n",
    "![screenshot2](Images/one.png)\n",
    "* Next set the account with the ``priv_key``, and use ``send_tx`` to complete a transaction\n",
    "\n",
    "**Bitcoin Testnet transaction**\n",
    "* Fund a ``BTCTEST`` address \n",
    "    * [Testnet faucet](https://testnet-faucet.mempool.co).\n",
    "* Observe transactions on the address\n",
    "    * [Block explorer](https://tbtc.bitaps.com) \n",
    "* Send a transaction to another testnet address \n",
    "    * Either one of your own, or the faucet's\n",
    "* Your comfermation should look something similar to this\n",
    "![Screenshot1](Images/two.png)\n",
    "\n",
    "**Ganashe Ethereum transaction**\n",
    "* Open up Ganashe and activate your ethereum accounts.\n",
    "* Set the private key and call the ``send_tx`` function similar to btc-test.\n",
    "* Pick an address to be the recipient\n",
    "    * In the ``send_tx`` function include \n",
    "        * how many ``ETH`` to send (more then one) \n",
    "     * Your output should resemble this \n",
    "![screenshot3](Images/three.png)\n",
    "* Check Ganashe \"transactions\" tab and verify transaction went through\n",
    "    * Your transaction should look similar to\n",
    "![screenshot4](Images/four.png)\n",
    "\n",
    "**Congratulations you've just successfully sent a crypto transactions with Python!**\n"
   ]
  }
 ],
 "metadata": {
  "kernelspec": {
   "display_name": "Python 3",
   "language": "python",
   "name": "python3"
  },
  "language_info": {
   "codemirror_mode": {
    "name": "ipython",
    "version": 3
   },
   "file_extension": ".py",
   "mimetype": "text/x-python",
   "name": "python",
   "nbconvert_exporter": "python",
   "pygments_lexer": "ipython3",
   "version": "3.8.3"
  }
 },
 "nbformat": 4,
 "nbformat_minor": 4
}
